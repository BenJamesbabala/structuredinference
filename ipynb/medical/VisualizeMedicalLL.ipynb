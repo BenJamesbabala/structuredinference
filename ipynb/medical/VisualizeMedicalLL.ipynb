{
 "cells": [
  {
   "cell_type": "code",
   "execution_count": 1,
   "metadata": {
    "collapsed": false
   },
   "outputs": [],
   "source": [
    "#Visualize Results from Medical Data\n",
    "import numpy as np\n",
    "%matplotlib inline  \n",
    "import glob,h5py,os,re\n",
    "import matplotlib.pyplot as plt\n",
    "import matplotlib as mpl\n",
    "mpl.rcParams['lines.linewidth']=2.5\n",
    "mpl.rcParams['lines.markersize']=8\n",
    "mpl.rcParams['text.usetex']=True\n",
    "mpl.rcParams['text.latex.unicode']=True\n",
    "mpl.rcParams['font.family'] = 'serif'\n",
    "mpl.rcParams['font.serif'] = 'Times New Roman'\n",
    "mpl.rcParams['text.latex.preamble']= ['\\usepackage{amsfonts}','\\usepackage{amsmath}']\n",
    "mpl.rcParams['font.size'] = 20\n",
    "mpl.rcParams['axes.labelsize']=20\n",
    "mpl.rcParams['legend.fontsize']=20\n",
    "#http://stackoverflow.com/questions/22408237/named-colors-in-matplotlib\n",
    "import cPickle as pickle\n",
    "from datasets.synthp import params_synthetic\n",
    "\n",
    "markers  = {}\n",
    "markers[0]  = 'v'\n",
    "markers[1] = '<'\n",
    "markers[2]  = '>'\n",
    "markers[3]  = '8'\n",
    "markers[4] = '1'\n",
    "markers[5]  = 'p'\n",
    "markers[6]  = 's'\n",
    "markers[7]  = '*'\n",
    "markers[8] = 's'\n",
    "markers[9]  = '8'\n",
    "\n",
    "colors   = {}\n",
    "colors[0]  = 'k'\n",
    "colors[1] = 'b'\n",
    "colors[2]  = 'g'\n",
    "colors[3]  = 'y'\n",
    "colors[4] = 'r'\n",
    "colors[5]  = 'c'\n",
    "colors[6]  = '#FF6347'\n",
    "colors[7]  = '#FF6347'\n",
    "colors[8] = '#C0C0C0'\n",
    "colors[9]  = '#FF6347'\n",
    "\n",
    "def getHDF5Data(f):\n",
    "    ff = h5py.File(f,mode='r')\n",
    "    alldata = {}\n",
    "    for k in ff.keys():\n",
    "        alldata[k] = ff[k].value\n",
    "    return alldata\n",
    "def getPKLData(f):\n",
    "    with open(f,'rb') as f:\n",
    "        data = pickle.load(f)\n",
    "    return data\n",
    "def getCode(f):\n",
    "    tmap  = {'mlp':'NL','linear':'L'}\n",
    "    ds    =  f.split('-ds-')[1].split('-')[0]\n",
    "    etype =  f.split('-etype-')[1].split('-')[0]\n",
    "    ttype =  f.split('-ttype-')[1].split('-')[0]\n",
    "    return 'E['+tmap[etype]+']-T['+str(tmap[ttype])+'] ds='+str(ds)"
   ]
  },
  {
   "cell_type": "code",
   "execution_count": 2,
   "metadata": {
    "collapsed": false
   },
   "outputs": [
    {
     "name": "stdout",
     "output_type": "stream",
     "text": [
      "NO BASELINE FOUND\n"
     ]
    },
    {
     "ename": "NameError",
     "evalue": "name 'X' is not defined",
     "output_type": "error",
     "traceback": [
      "\u001b[1;31m---------------------------------------------------------------------------\u001b[0m",
      "\u001b[1;31mNameError\u001b[0m                                 Traceback (most recent call last)",
      "\u001b[1;32m<ipython-input-2-d9e1afa1d471>\u001b[0m in \u001b[0;36m<module>\u001b[1;34m()\u001b[0m\n\u001b[0;32m     44\u001b[0m \u001b[1;31m#    X    = data['valid_bound'][:,0].ravel()\u001b[0m\u001b[1;33m\u001b[0m\u001b[1;33m\u001b[0m\u001b[0m\n\u001b[0;32m     45\u001b[0m \u001b[1;31m#    Y    = -data['valid_bound'][:,1].ravel()\u001b[0m\u001b[1;33m\u001b[0m\u001b[1;33m\u001b[0m\u001b[0m\n\u001b[1;32m---> 46\u001b[1;33m     \u001b[0mplotBounds\u001b[0m\u001b[1;33m(\u001b[0m\u001b[0maxlist_valid\u001b[0m\u001b[1;33m,\u001b[0m \u001b[0mX\u001b[0m\u001b[1;33m,\u001b[0m\u001b[0mY\u001b[0m\u001b[1;33m,\u001b[0m\u001b[0mcolors\u001b[0m\u001b[1;33m[\u001b[0m\u001b[0midx\u001b[0m\u001b[1;33m+\u001b[0m\u001b[1;36m2\u001b[0m\u001b[1;33m]\u001b[0m\u001b[1;33m,\u001b[0m\u001b[0mmarkers\u001b[0m\u001b[1;33m[\u001b[0m\u001b[0midx\u001b[0m\u001b[1;33m+\u001b[0m\u001b[1;36m2\u001b[0m\u001b[1;33m]\u001b[0m\u001b[1;33m,\u001b[0m\u001b[0mlabel\u001b[0m\u001b[1;33m=\u001b[0m\u001b[1;34m'CFAC'\u001b[0m\u001b[1;33m)\u001b[0m\u001b[1;33m\u001b[0m\u001b[0m\n\u001b[0m\u001b[0;32m     47\u001b[0m \u001b[1;33m\u001b[0m\u001b[0m\n\u001b[0;32m     48\u001b[0m \u001b[0max\u001b[0m \u001b[1;33m=\u001b[0m \u001b[0maxlist_valid\u001b[0m\u001b[1;33m\u001b[0m\u001b[0m\n",
      "\u001b[1;31mNameError\u001b[0m: name 'X' is not defined"
     ]
    },
    {
     "data": {
      "image/png": "[encoded data removed]",
      "text/plain": [
       "<matplotlib.figure.Figure at 0x3983590>"
      ]
     },
     "metadata": {},
     "output_type": "display_data"
    }
   ],
   "source": [
    "DIR = '../../expt-medical-fast/chkpt-A/'\n",
    "\n",
    "fig_valid,axlist_valid = plt.subplots(1,1,figsize = (8,6))\n",
    "\n",
    "def plotBounds(ax, x, y,c, m, label = None, ls = 'solid'):\n",
    "    ax.plot(x,y,label = label,marker =m, color=c,ls=ls)\n",
    "\n",
    "for idx,f in enumerate(glob.glob(DIR+'/*final.h5')):\n",
    "    label = getCode(f)\n",
    "    data = getHDF5Data(f)\n",
    "    if 'ds=30' in label:\n",
    "        continue\n",
    "    label = label.split(' ds')[0]\n",
    "    print label,f,'\\n'\n",
    "    #Remove \n",
    "    X = data['valid_bound'][:,0]\n",
    "    Y = -data['valid_bound'][:,1]\n",
    "    plotBounds(axlist_valid, X,Y,colors[idx],markers[idx],label=label)\n",
    "    #Using same indices for NLl as Bound\n",
    "    #X = data['valid_bound'][:,0]\n",
    "    #Y = data['valid_nll']\n",
    "    #plotBounds(axlist_valid, X,Y,colors[idx],markers[idx],label=label,ls='dashed')\n",
    "\n",
    "ax = axlist_valid\n",
    "ax.set_xlabel('Epochs')\n",
    "ax.set_ylabel('Validation Accuracy')\n",
    "ax.set_title('DKF [$>\\log p(\\\\vec{x})$] vs LSTM-RNN [$\\log p(\\\\vec{x})$]')\n",
    "ax.set_ylim([-15,0])\n",
    "axlist_valid.legend(loc='upper center', bbox_to_anchor=(0.5, 1.4),ncol=2, frameon=False)\n",
    "\n",
    "plt.savefig('./medical-ll.pdf',bbox_inches='tight')"
   ]
  },
  {
   "cell_type": "code",
   "execution_count": null,
   "metadata": {
    "collapsed": true
   },
   "outputs": [],
   "source": [
    "#"
   ]
  }
 ],
 "metadata": {
  "kernelspec": {
   "display_name": "Python 2",
   "language": "python",
   "name": "python2"
  },
  "language_info": {
   "codemirror_mode": {
    "name": "ipython",
    "version": 2
   },
   "file_extension": ".py",
   "mimetype": "text/x-python",
   "name": "python",
   "nbconvert_exporter": "python",
   "pygments_lexer": "ipython2",
   "version": "2.7.6"
  }
 },
 "nbformat": 4,
 "nbformat_minor": 0
}
